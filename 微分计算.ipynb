{
 "cells": [
  {
   "cell_type": "code",
   "execution_count": 1,
   "metadata": {},
   "outputs": [],
   "source": [
    "from sympy import *"
   ]
  },
  {
   "cell_type": "code",
   "execution_count": 9,
   "metadata": {},
   "outputs": [
    {
     "data": {
      "text/latex": [
       "$\\displaystyle \\frac{1}{\\sqrt{a^{2} + x^{2}}}$"
      ],
      "text/plain": [
       "1/sqrt(a**2 + x**2)"
      ]
     },
     "execution_count": 9,
     "metadata": {},
     "output_type": "execute_result"
    }
   ],
   "source": [
    "x = symbols('x')\n",
    "a = symbols('a')\n",
    "y = ln(x+sqrt(x**2+a**2))\n",
    "y.diff(x).simplify()"
   ]
  },
  {
   "cell_type": "code",
   "execution_count": 7,
   "metadata": {},
   "outputs": [
    {
     "data": {
      "text/latex": [
       "$\\displaystyle - \\frac{2^{- \\frac{1}{\\cos{\\left(x \\right)}}} \\log{\\left(2 \\right)} \\sin{\\left(x \\right)}}{\\cos^{2}{\\left(x \\right)}}$"
      ],
      "text/plain": [
       "-log(2)*sin(x)/(2**(1/cos(x))*cos(x)**2)"
      ]
     },
     "execution_count": 7,
     "metadata": {},
     "output_type": "execute_result"
    }
   ],
   "source": [
    "y = 2**(-1/cos(x))\n",
    "y.diff(x)"
   ]
  },
  {
   "cell_type": "code",
   "execution_count": 13,
   "metadata": {},
   "outputs": [
    {
     "data": {
      "text/latex": [
       "$\\displaystyle \\begin{cases} \\frac{\\sin^{2}{\\left(x \\right)} + 1}{2 \\cos^{3}{\\left(x \\right)}} & \\text{for}\\: \\tan{\\left(\\frac{x}{2} + \\frac{\\pi}{4} \\right)} = 0 \\\\\\frac{1.0 \\left(\\left(\\sin{\\left(\\operatorname{re}{\\left(x\\right)} \\right)} \\cosh{\\left(\\operatorname{im}{\\left(x\\right)} \\right)} \\frac{d}{d x} \\operatorname{re}{\\left(x\\right)} + \\cos{\\left(\\operatorname{re}{\\left(x\\right)} \\right)} \\sinh{\\left(\\operatorname{im}{\\left(x\\right)} \\right)} \\frac{d}{d x} \\operatorname{im}{\\left(x\\right)} - \\frac{d}{d x} \\operatorname{re}{\\left(x\\right)}\\right) \\cos{\\left(\\operatorname{re}{\\left(x\\right)} \\right)} - \\left(- \\sin{\\left(\\operatorname{re}{\\left(x\\right)} \\right)} \\cosh{\\left(\\operatorname{im}{\\left(x\\right)} \\right)} \\frac{d}{d x} \\operatorname{im}{\\left(x\\right)} + \\cos{\\left(\\operatorname{re}{\\left(x\\right)} \\right)} \\sinh{\\left(\\operatorname{im}{\\left(x\\right)} \\right)} \\frac{d}{d x} \\operatorname{re}{\\left(x\\right)} + \\frac{d}{d x} \\operatorname{im}{\\left(x\\right)}\\right) \\sinh{\\left(\\operatorname{im}{\\left(x\\right)} \\right)}\\right) \\cos^{3}{\\left(x \\right)} + \\left(\\sin^{2}{\\left(x \\right)} + 1\\right) \\left(\\sin{\\left(\\operatorname{re}{\\left(x\\right)} \\right)} - \\cosh{\\left(\\operatorname{im}{\\left(x\\right)} \\right)}\\right)^{3} \\left|{\\tan{\\left(\\frac{x}{2} + \\frac{\\pi}{4} \\right)}}\\right|^{2}}{2 \\left(\\sin{\\left(\\operatorname{re}{\\left(x\\right)} \\right)} - \\cosh{\\left(\\operatorname{im}{\\left(x\\right)} \\right)}\\right)^{3} \\cos^{3}{\\left(x \\right)} \\left|{\\tan{\\left(\\frac{x}{2} + \\frac{\\pi}{4} \\right)}}\\right|^{2}} & \\text{otherwise} \\end{cases}$"
      ],
      "text/plain": [
       "Piecewise(((sin(x)**2 + 1)/(2*cos(x)**3), Eq(tan(x/2 + pi/4), 0)), ((1.0*((sin(re(x))*cosh(im(x))*Derivative(re(x), x) + cos(re(x))*sinh(im(x))*Derivative(im(x), x) - Derivative(re(x), x))*cos(re(x)) - (-sin(re(x))*cosh(im(x))*Derivative(im(x), x) + cos(re(x))*sinh(im(x))*Derivative(re(x), x) + Derivative(im(x), x))*sinh(im(x)))*cos(x)**3 + (sin(x)**2 + 1)*(sin(re(x)) - cosh(im(x)))**3*Abs(tan(x/2 + pi/4))**2)/(2*(sin(re(x)) - cosh(im(x)))**3*cos(x)**3*Abs(tan(x/2 + pi/4))**2), True))"
      ]
     },
     "execution_count": 13,
     "metadata": {},
     "output_type": "execute_result"
    }
   ],
   "source": [
    "y = sin(x)/(2*cos(x)**2) + 1/2*ln(abs(tan(x/2+pi/4)))\n",
    "y.diff().simplify()"
   ]
  },
  {
   "cell_type": "code",
   "execution_count": 14,
   "metadata": {},
   "outputs": [
    {
     "data": {
      "text/latex": [
       "$\\displaystyle 0.5 \\log{\\left(\\left|{\\tan{\\left(\\frac{x}{2} + \\frac{\\pi}{4} \\right)}}\\right| \\right)} + \\frac{\\sin{\\left(x \\right)}}{2 \\cos^{2}{\\left(x \\right)}}$"
      ],
      "text/plain": [
       "0.5*log(Abs(tan(x/2 + pi/4))) + sin(x)/(2*cos(x)**2)"
      ]
     },
     "execution_count": 14,
     "metadata": {},
     "output_type": "execute_result"
    }
   ],
   "source": [
    "y"
   ]
  },
  {
   "cell_type": "code",
   "execution_count": 17,
   "metadata": {},
   "outputs": [
    {
     "data": {
      "text/latex": [
       "$\\displaystyle \\frac{3 x^{2} - y - e^{x}}{x - 3 y^{2}}$"
      ],
      "text/plain": [
       "(3*x**2 - y - exp(x))/(x - 3*y**2)"
      ]
     },
     "execution_count": 17,
     "metadata": {},
     "output_type": "execute_result"
    }
   ],
   "source": [
    "y = symbols('y')\n",
    "idiff(x**3+y**3-exp(x)-x*y,y,x)"
   ]
  },
  {
   "cell_type": "code",
   "execution_count": 21,
   "metadata": {},
   "outputs": [
    {
     "data": {
      "text/latex": [
       "$\\displaystyle \\frac{\\left(a x \\left(b x \\log{\\left(x \\right)} - c\\right) \\log{\\left(x \\right)} + b x \\log{\\left(x \\right)}^{2} + c\\right) e^{a x}}{x \\log{\\left(x \\right)}^{2}}$"
      ],
      "text/plain": [
       "(a*x*(b*x*log(x) - c)*log(x) + b*x*log(x)**2 + c)*exp(a*x)/(x*log(x)**2)"
      ]
     },
     "execution_count": 21,
     "metadata": {},
     "output_type": "execute_result"
    }
   ],
   "source": [
    "a,b,c=symbols('a,b,c')\n",
    "y = exp(a*x)*(b*x-c/ln(x))\n",
    "y.diff(x).simplify()"
   ]
  },
  {
   "cell_type": "code",
   "execution_count": null,
   "metadata": {},
   "outputs": [],
   "source": []
  }
 ],
 "metadata": {
  "kernelspec": {
   "display_name": "Python 3.7.6 ('deeplearning')",
   "language": "python",
   "name": "python3"
  },
  "language_info": {
   "codemirror_mode": {
    "name": "ipython",
    "version": 3
   },
   "file_extension": ".py",
   "mimetype": "text/x-python",
   "name": "python",
   "nbconvert_exporter": "python",
   "pygments_lexer": "ipython3",
   "version": "3.7.6"
  },
  "orig_nbformat": 4,
  "vscode": {
   "interpreter": {
    "hash": "d91e78cae3429e99d369efa9076fa073c89ca98e5078a6d16a8785c5ed145124"
   }
  }
 },
 "nbformat": 4,
 "nbformat_minor": 2
}
