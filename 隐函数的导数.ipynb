{
 "cells": [
  {
   "cell_type": "code",
   "execution_count": 1,
   "metadata": {},
   "outputs": [],
   "source": [
    "from sympy import *"
   ]
  },
  {
   "cell_type": "code",
   "execution_count": 3,
   "metadata": {},
   "outputs": [
    {
     "data": {
      "text/latex": [
       "$\\displaystyle \\frac{x + y}{x - y}$"
      ],
      "text/plain": [
       "(x + y)/(x - y)"
      ]
     },
     "execution_count": 3,
     "metadata": {},
     "output_type": "execute_result"
    }
   ],
   "source": [
    "x,y = symbols('x,y')\n",
    "idiff(atan(y/x)-ln(sqrt(x**2+y**2)),y,x)"
   ]
  },
  {
   "cell_type": "code",
   "execution_count": 4,
   "metadata": {},
   "outputs": [
    {
     "data": {
      "text/latex": [
       "$\\displaystyle \\frac{y}{x} - \\frac{e^{- \\frac{c y}{x}}}{b c}$"
      ],
      "text/plain": [
       "y/x - exp(-c*y/x)/(b*c)"
      ]
     },
     "execution_count": 4,
     "metadata": {},
     "output_type": "execute_result"
    }
   ],
   "source": [
    "a = symbols('a')\n",
    "b = symbols('b')\n",
    "c= symbols('c')\n",
    "idiff(ln(a*x)+b*exp(c*y/x)-exp(1),y,x)"
   ]
  },
  {
   "cell_type": "code",
   "execution_count": 12,
   "metadata": {},
   "outputs": [
    {
     "data": {
      "text/latex": [
       "$\\displaystyle \\frac{4 x - 2 y + 1}{2 x - 2 y - 2}$"
      ],
      "text/plain": [
       "(4*x - 2*y + 1)/(2*x - 2*y - 2)"
      ]
     },
     "execution_count": 12,
     "metadata": {},
     "output_type": "execute_result"
    }
   ],
   "source": [
    "z = 2*x**2-2*x*y+y**2+x+2*y+1\n",
    "idiff(z,y,x).cancel()\n"
   ]
  },
  {
   "cell_type": "code",
   "execution_count": 13,
   "metadata": {},
   "outputs": [
    {
     "data": {
      "text/latex": [
       "$\\displaystyle \\frac{8 x^{2} - 8 x y + 4 x + 4 y^{2} + 8 y + 13}{4 x^{3} - 12 x^{2} y - 12 x^{2} + 12 x y^{2} + 24 x y + 12 x - 4 y^{3} - 12 y^{2} - 12 y - 4}$"
      ],
      "text/plain": [
       "(8*x**2 - 8*x*y + 4*x + 4*y**2 + 8*y + 13)/(4*x**3 - 12*x**2*y - 12*x**2 + 12*x*y**2 + 24*x*y + 12*x - 4*y**3 - 12*y**2 - 12*y - 4)"
      ]
     },
     "execution_count": 13,
     "metadata": {},
     "output_type": "execute_result"
    }
   ],
   "source": [
    "idiff(z,y,x,2).cancel()"
   ]
  },
  {
   "cell_type": "code",
   "execution_count": 14,
   "metadata": {},
   "outputs": [
    {
     "data": {
      "text/latex": [
       "$\\displaystyle \\left(a x^{n} + b\\right)^{\\sin{\\left(c x \\right)}} \\left(\\frac{a n x^{n} \\sin{\\left(c x \\right)}}{x \\left(a x^{n} + b\\right)} + c \\log{\\left(a x^{n} + b \\right)} \\cos{\\left(c x \\right)}\\right)$"
      ],
      "text/plain": [
       "(a*x**n + b)**sin(c*x)*(a*n*x**n*sin(c*x)/(x*(a*x**n + b)) + c*log(a*x**n + b)*cos(c*x))"
      ]
     },
     "execution_count": 14,
     "metadata": {},
     "output_type": "execute_result"
    }
   ],
   "source": [
    "n = symbols('n')\n",
    "y = (a*x**n+b)**sin(c*x)\n",
    "y.diff(x)"
   ]
  },
  {
   "cell_type": "code",
   "execution_count": 15,
   "metadata": {},
   "outputs": [
    {
     "data": {
      "text/latex": [
       "$\\displaystyle \\left(a x^{n} + b\\right)^{\\sin{\\left(c x \\right)}} \\left(- \\frac{a^{2} n^{2} x^{2 n} \\sin{\\left(c x \\right)}}{x^{2} \\left(a x^{n} + b\\right)^{2}} + \\frac{2 a c n x^{n} \\cos{\\left(c x \\right)}}{x \\left(a x^{n} + b\\right)} + \\frac{a n^{2} x^{n} \\sin{\\left(c x \\right)}}{x^{2} \\left(a x^{n} + b\\right)} - \\frac{a n x^{n} \\sin{\\left(c x \\right)}}{x^{2} \\left(a x^{n} + b\\right)} - c^{2} \\log{\\left(a x^{n} + b \\right)} \\sin{\\left(c x \\right)} + \\left(\\frac{a n x^{n} \\sin{\\left(c x \\right)}}{x \\left(a x^{n} + b\\right)} + c \\log{\\left(a x^{n} + b \\right)} \\cos{\\left(c x \\right)}\\right)^{2}\\right)$"
      ],
      "text/plain": [
       "(a*x**n + b)**sin(c*x)*(-a**2*n**2*x**(2*n)*sin(c*x)/(x**2*(a*x**n + b)**2) + 2*a*c*n*x**n*cos(c*x)/(x*(a*x**n + b)) + a*n**2*x**n*sin(c*x)/(x**2*(a*x**n + b)) - a*n*x**n*sin(c*x)/(x**2*(a*x**n + b)) - c**2*log(a*x**n + b)*sin(c*x) + (a*n*x**n*sin(c*x)/(x*(a*x**n + b)) + c*log(a*x**n + b)*cos(c*x))**2)"
      ]
     },
     "execution_count": 15,
     "metadata": {},
     "output_type": "execute_result"
    }
   ],
   "source": [
    "y.diff(x,x)"
   ]
  },
  {
   "cell_type": "code",
   "execution_count": 5,
   "metadata": {},
   "outputs": [
    {
     "data": {
      "text/latex": [
       "$\\displaystyle 3186.11881243838$"
      ],
      "text/plain": [
       "3186.11881243838"
      ]
     },
     "execution_count": 5,
     "metadata": {},
     "output_type": "execute_result"
    }
   ],
   "source": [
    "y = (sqrt(x)+pi/x)**(2+ln(x))\n",
    "y5 = y.diff(x,5)\n",
    "y5.subs(x,2017).evalf()"
   ]
  },
  {
   "cell_type": "code",
   "execution_count": 16,
   "metadata": {},
   "outputs": [
    {
     "data": {
      "text/latex": [
       "$\\displaystyle x^{x} \\left(\\log{\\left(x \\right)} + 1\\right) + x^{x^{x}} \\left(x^{x} \\left(\\log{\\left(x \\right)} + 1\\right) \\log{\\left(x \\right)} + \\frac{x^{x}}{x}\\right) + 1$"
      ],
      "text/plain": [
       "x**x*(log(x) + 1) + x**(x**x)*(x**x*(log(x) + 1)*log(x) + x**x/x) + 1"
      ]
     },
     "execution_count": 16,
     "metadata": {},
     "output_type": "execute_result"
    }
   ],
   "source": [
    "y = x+x**x+x**x**x\n",
    "y.diff(x)"
   ]
  },
  {
   "cell_type": "code",
   "execution_count": 7,
   "metadata": {},
   "outputs": [
    {
     "data": {
      "text/latex": [
       "$\\displaystyle \\frac{t \\left(t^{3} - 2\\right)}{2 t^{3} - 1}$"
      ],
      "text/plain": [
       "t*(t**3 - 2)/(2*t**3 - 1)"
      ]
     },
     "execution_count": 7,
     "metadata": {},
     "output_type": "execute_result"
    }
   ],
   "source": [
    "t = symbols('t')\n",
    "x = 6*t/(1+t**3)\n",
    "y = 6*t**2/(1+t**3)\n",
    "(y.diff(t)/x.diff(t)).simplify()"
   ]
  },
  {
   "cell_type": "code",
   "execution_count": 10,
   "metadata": {},
   "outputs": [
    {
     "data": {
      "text/latex": [
       "$\\displaystyle \\frac{\\left(2 \\sin{\\left(t \\right)} + 5 \\cos{\\left(t \\right)}\\right) \\tan^{4}{\\left(t \\right)}}{- 5 \\sin{\\left(t \\right)} + 2 \\cos{\\left(t \\right)}}$"
      ],
      "text/plain": [
       "(2*sin(t) + 5*cos(t))*tan(t)**4/(-5*sin(t) + 2*cos(t))"
      ]
     },
     "execution_count": 10,
     "metadata": {},
     "output_type": "execute_result"
    }
   ],
   "source": [
    "x = exp(2*t)*cos(t)**5\n",
    "y = exp(2*t)*sin(t)**5\n",
    "(y.diff(t)/x.diff(t)).simplify()"
   ]
  },
  {
   "cell_type": "code",
   "execution_count": 14,
   "metadata": {},
   "outputs": [
    {
     "data": {
      "text/latex": [
       "$\\displaystyle \\frac{2 b \\sin{\\left(t \\right)}}{a^{3} \\left(\\cos{\\left(t \\right)} - 1\\right)^{4}}$"
      ],
      "text/plain": [
       "2*b*sin(t)/(a**3*(cos(t) - 1)**4)"
      ]
     },
     "execution_count": 14,
     "metadata": {},
     "output_type": "execute_result"
    }
   ],
   "source": [
    "a,b = symbols('a,b')\n",
    "x = a*(t-sin(t))\n",
    "y = b*(1-cos(t))\n",
    "y1 = y.diff(t)/x.diff(t)\n",
    "y2 = y1.diff(t)/x.diff(t)\n",
    "y3 = y2.diff(t)/x.diff(t)\n",
    "y3.simplify()"
   ]
  },
  {
   "cell_type": "code",
   "execution_count": 15,
   "metadata": {},
   "outputs": [
    {
     "data": {
      "text/latex": [
       "$\\displaystyle \\frac{2 b}{a^{3}}$"
      ],
      "text/plain": [
       "2*b/a**3"
      ]
     },
     "execution_count": 15,
     "metadata": {},
     "output_type": "execute_result"
    }
   ],
   "source": [
    "y3.subs(t,pi/2)"
   ]
  },
  {
   "cell_type": "code",
   "execution_count": null,
   "metadata": {},
   "outputs": [],
   "source": []
  }
 ],
 "metadata": {
  "kernelspec": {
   "display_name": "Python 3.8.9 64-bit",
   "language": "python",
   "name": "python3"
  },
  "language_info": {
   "codemirror_mode": {
    "name": "ipython",
    "version": 3
   },
   "file_extension": ".py",
   "mimetype": "text/x-python",
   "name": "python",
   "nbconvert_exporter": "python",
   "pygments_lexer": "ipython3",
   "version": "3.8.9"
  },
  "orig_nbformat": 4,
  "vscode": {
   "interpreter": {
    "hash": "31f2aee4e71d21fbe5cf8b01ff0e069b9275f58929596ceb00d14d90e3e16cd6"
   }
  }
 },
 "nbformat": 4,
 "nbformat_minor": 2
}
