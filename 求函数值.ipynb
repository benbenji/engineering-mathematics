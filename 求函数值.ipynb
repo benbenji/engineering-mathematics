{
 "cells": [
  {
   "cell_type": "code",
   "execution_count": 3,
   "metadata": {},
   "outputs": [],
   "source": [
    "from sympy import *"
   ]
  },
  {
   "cell_type": "code",
   "execution_count": 4,
   "metadata": {},
   "outputs": [],
   "source": [
    "x,y = symbols('x,y')"
   ]
  },
  {
   "cell_type": "code",
   "execution_count": 9,
   "metadata": {},
   "outputs": [],
   "source": [
    "z = x**20-3*x**10+2*x**(sqrt(x))"
   ]
  },
  {
   "cell_type": "code",
   "execution_count": 10,
   "metadata": {},
   "outputs": [
    {
     "data": {
      "text/latex": [
       "$\\displaystyle x^{20} - 3 x^{10} + 2 x^{\\sqrt{x}}$"
      ],
      "text/plain": [
       "x**20 - 3*x**10 + 2*x**(sqrt(x))"
      ]
     },
     "execution_count": 10,
     "metadata": {},
     "output_type": "execute_result"
    }
   ],
   "source": [
    "z"
   ]
  },
  {
   "cell_type": "code",
   "execution_count": 11,
   "metadata": {},
   "outputs": [
    {
     "data": {
      "text/latex": [
       "$\\displaystyle 1.22216591924645$"
      ],
      "text/plain": [
       "1.22216591924645"
      ]
     },
     "execution_count": 11,
     "metadata": {},
     "output_type": "execute_result"
    }
   ],
   "source": [
    "result = z.subs({x:0.5})\n",
    "result"
   ]
  },
  {
   "cell_type": "code",
   "execution_count": 8,
   "metadata": {},
   "outputs": [
    {
     "name": "stdout",
     "output_type": "stream",
     "text": [
      "Help on method subs in module sympy.core.basic:\n",
      "\n",
      "subs(*args, **kwargs) method of sympy.core.add.Add instance\n",
      "    Substitutes old for new in an expression after sympifying args.\n",
      "    \n",
      "    `args` is either:\n",
      "      - two arguments, e.g. foo.subs(old, new)\n",
      "      - one iterable argument, e.g. foo.subs(iterable). The iterable may be\n",
      "         o an iterable container with (old, new) pairs. In this case the\n",
      "           replacements are processed in the order given with successive\n",
      "           patterns possibly affecting replacements already made.\n",
      "         o a dict or set whose key/value items correspond to old/new pairs.\n",
      "           In this case the old/new pairs will be sorted by op count and in\n",
      "           case of a tie, by number of args and the default_sort_key. The\n",
      "           resulting sorted list is then processed as an iterable container\n",
      "           (see previous).\n",
      "    \n",
      "    If the keyword ``simultaneous`` is True, the subexpressions will not be\n",
      "    evaluated until all the substitutions have been made.\n",
      "    \n",
      "    Examples\n",
      "    ========\n",
      "    \n",
      "    >>> from sympy import pi, exp, limit, oo\n",
      "    >>> from sympy.abc import x, y\n",
      "    >>> (1 + x*y).subs(x, pi)\n",
      "    pi*y + 1\n",
      "    >>> (1 + x*y).subs({x:pi, y:2})\n",
      "    1 + 2*pi\n",
      "    >>> (1 + x*y).subs([(x, pi), (y, 2)])\n",
      "    1 + 2*pi\n",
      "    >>> reps = [(y, x**2), (x, 2)]\n",
      "    >>> (x + y).subs(reps)\n",
      "    6\n",
      "    >>> (x + y).subs(reversed(reps))\n",
      "    x**2 + 2\n",
      "    \n",
      "    >>> (x**2 + x**4).subs(x**2, y)\n",
      "    y**2 + y\n",
      "    \n",
      "    To replace only the x**2 but not the x**4, use xreplace:\n",
      "    \n",
      "    >>> (x**2 + x**4).xreplace({x**2: y})\n",
      "    x**4 + y\n",
      "    \n",
      "    To delay evaluation until all substitutions have been made,\n",
      "    set the keyword ``simultaneous`` to True:\n",
      "    \n",
      "    >>> (x/y).subs([(x, 0), (y, 0)])\n",
      "    0\n",
      "    >>> (x/y).subs([(x, 0), (y, 0)], simultaneous=True)\n",
      "    nan\n",
      "    \n",
      "    This has the added feature of not allowing subsequent substitutions\n",
      "    to affect those already made:\n",
      "    \n",
      "    >>> ((x + y)/y).subs({x + y: y, y: x + y})\n",
      "    1\n",
      "    >>> ((x + y)/y).subs({x + y: y, y: x + y}, simultaneous=True)\n",
      "    y/(x + y)\n",
      "    \n",
      "    In order to obtain a canonical result, unordered iterables are\n",
      "    sorted by count_op length, number of arguments and by the\n",
      "    default_sort_key to break any ties. All other iterables are left\n",
      "    unsorted.\n",
      "    \n",
      "    >>> from sympy import sqrt, sin, cos\n",
      "    >>> from sympy.abc import a, b, c, d, e\n",
      "    \n",
      "    >>> A = (sqrt(sin(2*x)), a)\n",
      "    >>> B = (sin(2*x), b)\n",
      "    >>> C = (cos(2*x), c)\n",
      "    >>> D = (x, d)\n",
      "    >>> E = (exp(x), e)\n",
      "    \n",
      "    >>> expr = sqrt(sin(2*x))*sin(exp(x)*x)*cos(2*x) + sin(2*x)\n",
      "    \n",
      "    >>> expr.subs(dict([A, B, C, D, E]))\n",
      "    a*c*sin(d*e) + b\n",
      "    \n",
      "    The resulting expression represents a literal replacement of the\n",
      "    old arguments with the new arguments. This may not reflect the\n",
      "    limiting behavior of the expression:\n",
      "    \n",
      "    >>> (x**3 - 3*x).subs({x: oo})\n",
      "    nan\n",
      "    \n",
      "    >>> limit(x**3 - 3*x, x, oo)\n",
      "    oo\n",
      "    \n",
      "    If the substitution will be followed by numerical\n",
      "    evaluation, it is better to pass the substitution to\n",
      "    evalf as\n",
      "    \n",
      "    >>> (1/x).evalf(subs={x: 3.0}, n=21)\n",
      "    0.333333333333333333333\n",
      "    \n",
      "    rather than\n",
      "    \n",
      "    >>> (1/x).subs({x: 3.0}).evalf(21)\n",
      "    0.333333333333333314830\n",
      "    \n",
      "    as the former will ensure that the desired level of precision is\n",
      "    obtained.\n",
      "    \n",
      "    See Also\n",
      "    ========\n",
      "    replace: replacement capable of doing wildcard-like matching,\n",
      "             parsing of match, and conditional replacements\n",
      "    xreplace: exact node replacement in expr tree; also capable of\n",
      "              using matching rules\n",
      "    sympy.core.evalf.EvalfMixin.evalf: calculates the given formula to a desired level of precision\n",
      "\n"
     ]
    }
   ],
   "source": [
    "help(z.subs)"
   ]
  },
  {
   "cell_type": "code",
   "execution_count": 14,
   "metadata": {},
   "outputs": [
    {
     "data": {
      "text/latex": [
       "$\\displaystyle x^{2} \\cos{\\left(x e^{2 x} \\right)}$"
      ],
      "text/plain": [
       "x**2*cos(x*exp(2*x))"
      ]
     },
     "execution_count": 14,
     "metadata": {},
     "output_type": "execute_result"
    }
   ],
   "source": [
    "z = x**2*cos(x*exp(2*x))\n",
    "z"
   ]
  },
  {
   "cell_type": "code",
   "execution_count": 17,
   "metadata": {},
   "outputs": [
    {
     "name": "stdout",
     "output_type": "stream",
     "text": [
      "0.448356241818733\n",
      "-2.90087903515635\n",
      "-6.44105867872140\n",
      "-1.32597402268937\n",
      "19.7970779116179\n",
      "-25.8363828974549\n",
      "42.1541197707017\n",
      "-24.8989956863048\n",
      "52.8783706959654\n",
      "-55.6173393213530\n"
     ]
    }
   ],
   "source": [
    "for i in range(1,11):\n",
    "    print(z.subs({x:i}).evalf()) # evalf 求出具体数值"
   ]
  },
  {
   "cell_type": "code",
   "execution_count": 18,
   "metadata": {},
   "outputs": [],
   "source": [
    "z = (5+x**2+x**3+x**4)/(5+5*x + 5*x**2)"
   ]
  },
  {
   "cell_type": "code",
   "execution_count": 19,
   "metadata": {},
   "outputs": [
    {
     "data": {
      "text/latex": [
       "$\\displaystyle \\frac{x^{4} + x^{3} + x^{2} + 5}{5 x^{2} + 5 x + 5}$"
      ],
      "text/plain": [
       "(x**4 + x**3 + x**2 + 5)/(5*x**2 + 5*x + 5)"
      ]
     },
     "execution_count": 19,
     "metadata": {},
     "output_type": "execute_result"
    }
   ],
   "source": [
    "z"
   ]
  },
  {
   "cell_type": "code",
   "execution_count": 22,
   "metadata": {},
   "outputs": [],
   "source": [
    "import numpy as np"
   ]
  },
  {
   "cell_type": "code",
   "execution_count": 24,
   "metadata": {},
   "outputs": [
    {
     "name": "stdout",
     "output_type": "stream",
     "text": [
      "3.27692307692308\n",
      "2.97391065292096\n",
      "2.68852509652510\n",
      "2.42117030567686\n",
      "2.17237810945274\n",
      "1.94285714285714\n",
      "1.73356291390728\n",
      "1.54579844961240\n",
      "1.38135779816514\n",
      "1.24272527472527\n",
      "1.13333333333333\n",
      "1.05783606557377\n",
      "1.02220408163265\n",
      "1.03302564102564\n",
      "1.09445161290323\n",
      "1.20000000000000\n",
      "1.31847619047619\n",
      "1.38778947368421\n",
      "1.34778947368421\n",
      "1.19847619047619\n",
      "0.999999999999996\n",
      "0.814451612903223\n",
      "0.673025641025639\n",
      "0.582204081632652\n",
      "0.537836065573770\n",
      "0.533333333333334\n",
      "0.562725274725276\n",
      "0.621357798165139\n",
      "0.705798449612406\n",
      "0.813562913907288\n",
      "0.942857142857147\n",
      "1.09237810945274\n",
      "1.26117030567686\n",
      "1.44852509652510\n",
      "1.65391065292097\n",
      "1.87692307692308\n",
      "2.11725207756234\n",
      "2.37465664160402\n",
      "2.64894760820047\n",
      "2.93997505197506\n",
      "3.24761904761906\n"
     ]
    }
   ],
   "source": [
    "for i in np.arange(-4,4.1,0.2):\n",
    "    print(z.subs({x:i}))"
   ]
  },
  {
   "cell_type": "code",
   "execution_count": null,
   "metadata": {},
   "outputs": [],
   "source": []
  }
 ],
 "metadata": {
  "interpreter": {
   "hash": "583186dd6901f078916bb3bd50295973106cc0f6c8b4723eb2a7d1ac2b886276"
  },
  "kernelspec": {
   "display_name": "Python 3.9.7 ('base')",
   "language": "python",
   "name": "python3"
  },
  "language_info": {
   "codemirror_mode": {
    "name": "ipython",
    "version": 3
   },
   "file_extension": ".py",
   "mimetype": "text/x-python",
   "name": "python",
   "nbconvert_exporter": "python",
   "pygments_lexer": "ipython3",
   "version": "3.9.7"
  },
  "orig_nbformat": 4
 },
 "nbformat": 4,
 "nbformat_minor": 2
}
