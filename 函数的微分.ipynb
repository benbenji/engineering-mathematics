{
 "cells": [
  {
   "cell_type": "code",
   "execution_count": 1,
   "metadata": {},
   "outputs": [],
   "source": [
    "from sympy import *"
   ]
  },
  {
   "cell_type": "code",
   "execution_count": 2,
   "metadata": {},
   "outputs": [
    {
     "data": {
      "text/latex": [
       "$\\displaystyle \\frac{\\frac{x}{\\sqrt{a^{2} + x^{2}}} + 1}{x + \\sqrt{a^{2} + x^{2}}}$"
      ],
      "text/plain": [
       "(x/sqrt(a**2 + x**2) + 1)/(x + sqrt(a**2 + x**2))"
      ]
     },
     "execution_count": 2,
     "metadata": {},
     "output_type": "execute_result"
    }
   ],
   "source": [
    "a,x,y = symbols('a,x,y')\n",
    "y = ln(x+sqrt(x**2+a**2))\n",
    "y.diff(x)"
   ]
  },
  {
   "cell_type": "code",
   "execution_count": 3,
   "metadata": {},
   "outputs": [
    {
     "data": {
      "text/latex": [
       "$\\displaystyle - \\frac{2^{- \\frac{1}{\\cos{\\left(x \\right)}}} \\log{\\left(2 \\right)} \\sin{\\left(x \\right)}}{\\cos^{2}{\\left(x \\right)}}$"
      ],
      "text/plain": [
       "-log(2)*sin(x)/(2**(1/cos(x))*cos(x)**2)"
      ]
     },
     "execution_count": 3,
     "metadata": {},
     "output_type": "execute_result"
    }
   ],
   "source": [
    "y = 2**((-1)/cos(x))\n",
    "y.diff(x)"
   ]
  },
  {
   "cell_type": "code",
   "execution_count": 4,
   "metadata": {},
   "outputs": [
    {
     "data": {
      "text/latex": [
       "$\\displaystyle \\frac{0.5 \\left(\\frac{\\left(\\frac{\\left(\\cos{\\left(\\operatorname{re}{\\left(x\\right)} \\right)} \\frac{d}{d x} \\operatorname{re}{\\left(x\\right)} - \\sinh{\\left(\\operatorname{im}{\\left(x\\right)} \\right)} \\frac{d}{d x} \\operatorname{im}{\\left(x\\right)}\\right) \\cos{\\left(\\operatorname{re}{\\left(x\\right)} \\right)}}{\\left(- \\sin{\\left(\\operatorname{re}{\\left(x\\right)} \\right)} + \\cosh{\\left(\\operatorname{im}{\\left(x\\right)} \\right)}\\right)^{2}} - \\frac{\\sin{\\left(\\operatorname{re}{\\left(x\\right)} \\right)} \\frac{d}{d x} \\operatorname{re}{\\left(x\\right)}}{- \\sin{\\left(\\operatorname{re}{\\left(x\\right)} \\right)} + \\cosh{\\left(\\operatorname{im}{\\left(x\\right)} \\right)}}\\right) \\cos{\\left(\\operatorname{re}{\\left(x\\right)} \\right)}}{- \\sin{\\left(\\operatorname{re}{\\left(x\\right)} \\right)} + \\cosh{\\left(\\operatorname{im}{\\left(x\\right)} \\right)}} + \\frac{\\left(\\frac{\\left(\\cos{\\left(\\operatorname{re}{\\left(x\\right)} \\right)} \\frac{d}{d x} \\operatorname{re}{\\left(x\\right)} - \\sinh{\\left(\\operatorname{im}{\\left(x\\right)} \\right)} \\frac{d}{d x} \\operatorname{im}{\\left(x\\right)}\\right) \\sinh{\\left(\\operatorname{im}{\\left(x\\right)} \\right)}}{\\left(- \\sin{\\left(\\operatorname{re}{\\left(x\\right)} \\right)} + \\cosh{\\left(\\operatorname{im}{\\left(x\\right)} \\right)}\\right)^{2}} + \\frac{\\cosh{\\left(\\operatorname{im}{\\left(x\\right)} \\right)} \\frac{d}{d x} \\operatorname{im}{\\left(x\\right)}}{- \\sin{\\left(\\operatorname{re}{\\left(x\\right)} \\right)} + \\cosh{\\left(\\operatorname{im}{\\left(x\\right)} \\right)}}\\right) \\sinh{\\left(\\operatorname{im}{\\left(x\\right)} \\right)}}{- \\sin{\\left(\\operatorname{re}{\\left(x\\right)} \\right)} + \\cosh{\\left(\\operatorname{im}{\\left(x\\right)} \\right)}}\\right) \\operatorname{sign}{\\left(\\tan{\\left(\\frac{x}{2} + \\frac{\\pi}{4} \\right)} \\right)}}{\\tan{\\left(\\frac{x}{2} + \\frac{\\pi}{4} \\right)} \\left|{\\tan{\\left(\\frac{x}{2} + \\frac{\\pi}{4} \\right)}}\\right|} + \\frac{\\sin^{2}{\\left(x \\right)}}{\\cos^{3}{\\left(x \\right)}} + \\frac{1}{2 \\cos{\\left(x \\right)}}$"
      ],
      "text/plain": [
       "0.5*(((cos(re(x))*Derivative(re(x), x) - sinh(im(x))*Derivative(im(x), x))*cos(re(x))/(-sin(re(x)) + cosh(im(x)))**2 - sin(re(x))*Derivative(re(x), x)/(-sin(re(x)) + cosh(im(x))))*cos(re(x))/(-sin(re(x)) + cosh(im(x))) + ((cos(re(x))*Derivative(re(x), x) - sinh(im(x))*Derivative(im(x), x))*sinh(im(x))/(-sin(re(x)) + cosh(im(x)))**2 + cosh(im(x))*Derivative(im(x), x)/(-sin(re(x)) + cosh(im(x))))*sinh(im(x))/(-sin(re(x)) + cosh(im(x))))*sign(tan(x/2 + pi/4))/(tan(x/2 + pi/4)*Abs(tan(x/2 + pi/4))) + sin(x)**2/cos(x)**3 + 1/(2*cos(x))"
      ]
     },
     "execution_count": 4,
     "metadata": {},
     "output_type": "execute_result"
    }
   ],
   "source": [
    "y = sin(x)/(2*cos(x)**2)+1/2*ln(abs(tan(x/2+pi/4)))\n",
    "y.diff(x)"
   ]
  },
  {
   "cell_type": "code",
   "execution_count": 6,
   "metadata": {},
   "outputs": [
    {
     "data": {
      "text/latex": [
       "$\\displaystyle \\frac{3 x^{2} - y - e^{x}}{x - 3 y^{2}}$"
      ],
      "text/plain": [
       "(3*x**2 - y - exp(x))/(x - 3*y**2)"
      ]
     },
     "execution_count": 6,
     "metadata": {},
     "output_type": "execute_result"
    }
   ],
   "source": [
    "x,y = symbols('x,y')\n",
    "idiff(x**3+y**3-exp(x)-x*y,y,x)"
   ]
  },
  {
   "cell_type": "code",
   "execution_count": 7,
   "metadata": {},
   "outputs": [
    {
     "data": {
      "text/latex": [
       "$\\displaystyle a \\left(b x - \\frac{c}{\\log{\\left(x \\right)}}\\right) e^{a x} + \\left(b + \\frac{c}{x \\log{\\left(x \\right)}^{2}}\\right) e^{a x}$"
      ],
      "text/plain": [
       "a*(b*x - c/log(x))*exp(a*x) + (b + c/(x*log(x)**2))*exp(a*x)"
      ]
     },
     "execution_count": 7,
     "metadata": {},
     "output_type": "execute_result"
    }
   ],
   "source": [
    "a,b,c = symbols('a,b,c')\n",
    "y = exp(a*x)*(b*x-c/ln(x))\n",
    "y.diff(x)"
   ]
  },
  {
   "cell_type": "code",
   "execution_count": null,
   "metadata": {},
   "outputs": [],
   "source": []
  }
 ],
 "metadata": {
  "kernelspec": {
   "display_name": "Python 3.7.6 ('deeplearning')",
   "language": "python",
   "name": "python3"
  },
  "language_info": {
   "codemirror_mode": {
    "name": "ipython",
    "version": 3
   },
   "file_extension": ".py",
   "mimetype": "text/x-python",
   "name": "python",
   "nbconvert_exporter": "python",
   "pygments_lexer": "ipython3",
   "version": "3.7.6"
  },
  "orig_nbformat": 4,
  "vscode": {
   "interpreter": {
    "hash": "d91e78cae3429e99d369efa9076fa073c89ca98e5078a6d16a8785c5ed145124"
   }
  }
 },
 "nbformat": 4,
 "nbformat_minor": 2
}
