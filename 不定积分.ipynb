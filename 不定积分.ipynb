{
 "cells": [
  {
   "cell_type": "code",
   "execution_count": 1,
   "metadata": {},
   "outputs": [
    {
     "name": "stdout",
     "output_type": "stream",
     "text": [
      "hahah\n"
     ]
    }
   ],
   "source": [
    "print(\"hahah\")"
   ]
  },
  {
   "cell_type": "code",
   "execution_count": 2,
   "metadata": {},
   "outputs": [],
   "source": [
    "from sympy import *"
   ]
  },
  {
   "cell_type": "code",
   "execution_count": 3,
   "metadata": {},
   "outputs": [],
   "source": [
    "x = symbols('x')\n",
    "A = integrate(cos(x)*cos(2*x)*cos(3*x),x)\n"
   ]
  },
  {
   "cell_type": "code",
   "execution_count": 4,
   "metadata": {},
   "outputs": [
    {
     "name": "stdout",
     "output_type": "stream",
     "text": [
      "-x*sin(x)*sin(2*x)*cos(3*x)/4 + x*sin(x)*sin(3*x)*cos(2*x)/4 + x*sin(2*x)*sin(3*x)*cos(x)/4 + x*cos(x)*cos(2*x)*cos(3*x)/4 - sin(x)*cos(2*x)*cos(3*x)/24 - sin(2*x)*cos(x)*cos(3*x)/6 + 3*sin(3*x)*cos(x)*cos(2*x)/8\n"
     ]
    }
   ],
   "source": [
    "print(A)"
   ]
  },
  {
   "cell_type": "code",
   "execution_count": 5,
   "metadata": {},
   "outputs": [
    {
     "data": {
      "text/latex": [
       "$\\displaystyle \\frac{x}{4} + \\frac{\\sin{\\left(2 x \\right)}}{8} + \\frac{\\sin{\\left(4 x \\right)}}{16} + \\frac{\\sin{\\left(6 x \\right)}}{24}$"
      ],
      "text/plain": [
       "x/4 + sin(2*x)/8 + sin(4*x)/16 + sin(6*x)/24"
      ]
     },
     "execution_count": 5,
     "metadata": {},
     "output_type": "execute_result"
    }
   ],
   "source": [
    "A.simplify()"
   ]
  },
  {
   "cell_type": "code",
   "execution_count": null,
   "metadata": {},
   "outputs": [],
   "source": []
  }
 ],
 "metadata": {
  "kernelspec": {
   "display_name": "Python 3.9.13 ('base')",
   "language": "python",
   "name": "python3"
  },
  "language_info": {
   "codemirror_mode": {
    "name": "ipython",
    "version": 3
   },
   "file_extension": ".py",
   "mimetype": "text/x-python",
   "name": "python",
   "nbconvert_exporter": "python",
   "pygments_lexer": "ipython3",
   "version": "3.9.13"
  },
  "orig_nbformat": 4,
  "vscode": {
   "interpreter": {
    "hash": "583186dd6901f078916bb3bd50295973106cc0f6c8b4723eb2a7d1ac2b886276"
   }
  }
 },
 "nbformat": 4,
 "nbformat_minor": 2
}
